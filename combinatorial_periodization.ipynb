{
 "cells": [
  {
   "cell_type": "code",
   "execution_count": 53,
   "id": "f97afdaa",
   "metadata": {},
   "outputs": [],
   "source": [
    "import numpy as np\n",
    "import matplotlib.pyplot as plt\n",
    "import scipy.stats"
   ]
  },
  {
   "cell_type": "code",
   "execution_count": 11,
   "id": "0911ace6",
   "metadata": {},
   "outputs": [],
   "source": [
    "X = np.random.uniform(0,10,1000)\n",
    "X = X.astype(int)"
   ]
  },
  {
   "cell_type": "code",
   "execution_count": 29,
   "id": "ca6c653e",
   "metadata": {},
   "outputs": [],
   "source": [
    "P_gt = np.zeros_like(X)\n",
    "P_gt[X < 4] = 1\n",
    "P_gt[X >= 6] = 2\n",
    "P_gt[(X >= 4) & (X < 6)] = np.random.choice([1,2], np.sum((X >= 4) & (X < 6)))"
   ]
  },
  {
   "cell_type": "code",
   "execution_count": 30,
   "id": "d4f34496",
   "metadata": {},
   "outputs": [],
   "source": [
    "Y = np.zeros_like(X, dtype='float')\n",
    "Y[P_gt==1] = np.random.normal(1,1,np.sum(P_gt==1))\n",
    "Y[P_gt==2] = np.random.normal(4,1,np.sum(P_gt==2))"
   ]
  },
  {
   "cell_type": "code",
   "execution_count": 31,
   "id": "f62ba51f",
   "metadata": {},
   "outputs": [
    {
     "data": {
      "text/plain": [
       "<matplotlib.collections.PathCollection at 0x726f239c70>"
      ]
     },
     "execution_count": 31,
     "metadata": {},
     "output_type": "execute_result"
    },
    {
     "data": {
      "image/png": "[encoded data removed]",
      "text/plain": [
       "<Figure size 640x480 with 1 Axes>"
      ]
     },
     "metadata": {},
     "output_type": "display_data"
    }
   ],
   "source": [
    "plt.scatter(X,Y)"
   ]
  },
  {
   "cell_type": "code",
   "execution_count": 75,
   "id": "98edfd34",
   "metadata": {},
   "outputs": [
    {
     "name": "stdout",
     "output_type": "stream",
     "text": [
      "[21, 20, 18, 17]\n",
      "[[0, 0, 1], [0, 1, 0], [0, 1, 1], [1, 0, 0], [1, 0, 1], [1, 1, 0], [1, 1, 1]]\n",
      "[False  True False]\n",
      "-0.9189385332046727\n",
      "-4.629692666023363\n"
     ]
    }
   ],
   "source": [
    "def E_step(X,Y,P_t):\n",
    "    \"\"\"\n",
    "    Compute the E step, find the model parameters for each period\n",
    "    \"\"\"\n",
    "    mu = np.zeros(max(P_t))\n",
    "    for i in range(max(P_t)):\n",
    "        mu[i] = np.mean(Y[P_t == (i+1)])\n",
    "        \n",
    "    return mu\n",
    "\n",
    "def state_number_to_array(state_number,pi):\n",
    "    state_array = []\n",
    "    for i in range(pi-1):\n",
    "        state_array = [state_number%3] + state_array\n",
    "        state_number = state_number // 3\n",
    "    return [state_number] + state_array\n",
    "\n",
    "def state_array_to_number(state_array):\n",
    "    state_number = state_array[0]\n",
    "    for val in state_array[1:]:\n",
    "        state_number *= 3\n",
    "        state_number += val\n",
    "    return state_number\n",
    "\n",
    "assert state_number_to_array(state_array_to_number([0,1,0]), 3) == [0,1,0]\n",
    "assert state_array_to_number(state_number_to_array(123, 4)) == 123\n",
    "\n",
    "def filter_by_year(X,Y,year):\n",
    "    return Y[X == year]\n",
    "\n",
    "\n",
    "def prev_states(state_number, pi):\n",
    "    \"\"\"\n",
    "    States are numbered as base-3 numbers with Pi digits where Pi is the total number of states\n",
    "    This function returns the legal previous states for a given state number\n",
    "    \"\"\"\n",
    "    possible_prev_states = [state_number]\n",
    "    state = state_number_to_array(state_number, pi)\n",
    "    for i in range(len(state)):\n",
    "        if state[i] > 0:\n",
    "            sts = possible_prev_states.copy()\n",
    "            for p in sts:\n",
    "                possible_prev_states.append(p - 3 ** i)\n",
    "    return possible_prev_states\n",
    "\n",
    "print(prev_states(state_array_to_number([2,1,0]), 3))\n",
    "\n",
    "def start_states(pi):\n",
    "    states = [0]\n",
    "    for i in range(pi):\n",
    "        sts = states.copy()\n",
    "        for state in sts:\n",
    "            states.append(state + 3 ** i)\n",
    "    return states[1:]\n",
    "\n",
    "print([state_number_to_array(s,3) for s in start_states(3)])\n",
    "\n",
    "def state_to_mu_index(state_number, pi):\n",
    "    state_arr = state_number_to_array(state_number, pi)\n",
    "    return np.array(state_arr) == 1\n",
    "\n",
    "print(state_to_index(state_array_to_number([2,1,0]), 3))\n",
    "\n",
    "\n",
    "def log_likelihood(Y_values, mu):\n",
    "    \"\"\"\n",
    "    Compute the likelihood of the y-values under the mu values\n",
    "    if mu is a list, compute likelihood under a mixture\n",
    "    \"\"\"\n",
    "    if type(Y_values) is list: Y_values = np.array(Y_values)\n",
    "    if type(mu) is not np.ndarray: mu = np.array(mu)\n",
    "    if Y_values.ndim==1: # handle univariate case\n",
    "        Y_values = Y_values.reshape([-1,1])\n",
    "        mu = mu.reshape([-1,1])\n",
    "    else:\n",
    "        if mu.ndim == 1: mu.reshape([1,-1])\n",
    "        assert mu.shape[1] == Y_values.shape[1]\n",
    "    if type(mu) is not np.ndarray:\n",
    "        return np.sum(scipy.stats.norm.logpdf(Y_values, loc=mu))\n",
    "    else:\n",
    "        total_ll = 0\n",
    "        distances = np.zeros([len(Y_values), len(mu)])\n",
    "        for i in range(len(mu)):\n",
    "            distances[:,i] = np.linalg.norm(Y_values - mu[i].reshape([1,-1]), axis=1)\n",
    "        center = np.argmin(distances,axis=1)\n",
    "        for i in range(len(mu)):\n",
    "            total_ll += np.sum(scipy.stats.norm.logpdf(Y_values[center == i], loc=mu[i]))\n",
    "        return total_ll\n",
    "    \n",
    "print(log_likelihood([0], [0]))\n",
    "print(log_likelihood(np.array([0,0.1,-0.1, 2.1, 2.2]), np.array([0,2])))\n",
    "    \n",
    "\n",
    "def M_step(X,Y,mu_t):\n",
    "    \"\"\"\n",
    "    Compute the M step, find the maximum likelihood periodization, given those period means\n",
    "    This requires dynamic programming\n",
    "    \"\"\"\n",
    "    pi = len(mu_t)\n",
    "    table = np.zeros(3 ** pi, max(X), dtype='float') + np.inf\n",
    "    backtrack_table = np.zeros(3 ** pi, max(X)+1, dtype='int')\n",
    "    Y_values_for_year_0 = filter_by_year(X,Y,0)\n",
    "    for state in start_states(pi):\n",
    "        table[0,state] = log_likelihood(y_values_for_year_0, mu_t[state_to_index(state)])\n",
    "    \n",
    "    for year in range(max(X)+1):\n",
    "        y_values_for_year = filter_by_year(X,Y,year)\n",
    "        for state in range(3 ** pi):\n",
    "            valid_prev_states = prev_states(state, pi)\n",
    "            if len(valid_prev_states) == 0: continue\n",
    "            ll = log_likelihood(y_values_for_year, mu_t[state_to_index(state)])\n",
    "            prev_state = np.argmin(table[year-1, valid_prev_states])\n",
    "            table[state,year] = ll + table[year-1, prev_state]\n",
    "            backtrack_table[state,year] = prev_state\n",
    "            \n",
    "    final_state = np.argmax(table[max(X)])\n",
    "    state_sequence = [final_state]\n",
    "    for i in range(len(backtrack_table), 0,-1):\n",
    "        state_sequence = [backtrack_table[state_sequence[0],i]] + state_sequence\n",
    "    return state_sequence\n",
    "\n",
    "\n",
    "def state_sequence_to_period_weights(X,Y,state_sequence, mu):\n",
    "    assignments = np.zeros([len(X), mu])\n",
    "    for i in range(len(state_sequence)):\n",
    "        relevant_means = mu[state_sequence_to_period_assignments(state_sequence)]\n",
    "        relevant_indices = (X == i)\n",
    "        "
   ]
  },
  {
   "cell_type": "code",
   "execution_count": null,
   "id": "ef6f0a48",
   "metadata": {},
   "outputs": [],
   "source": []
  }
 ],
 "metadata": {
  "kernelspec": {
   "display_name": "Python 3 (ipykernel)",
   "language": "python",
   "name": "python3"
  },
  "language_info": {
   "codemirror_mode": {
    "name": "ipython",
    "version": 3
   },
   "file_extension": ".py",
   "mimetype": "text/x-python",
   "name": "python",
   "nbconvert_exporter": "python",
   "pygments_lexer": "ipython3",
   "version": "3.9.2"
  }
 },
 "nbformat": 4,
 "nbformat_minor": 5
}
