{
 "cells": [
  {
   "cell_type": "code",
   "execution_count": 1,
   "metadata": {},
   "outputs": [],
   "source": [
    "import numpy as np\n",
    "import pandas as pd\n",
    "import cv2\n",
    "import scipy.stats\n",
    "\n",
    "import matplotlib.pyplot as plt\n",
    "\n",
    "import os\n",
    "import sys\n",
    "sys.path.append('..')\n",
    "import image_measures\n",
    "import visual_plot"
   ]
  },
  {
   "cell_type": "code",
   "execution_count": 2,
   "metadata": {},
   "outputs": [],
   "source": [
    "wikiart_path = '/media/sam/bbdb3901-f357-4a4f-b198-3102f6046fab/wikiart/images/'"
   ]
  },
  {
   "cell_type": "code",
   "execution_count": 23,
   "metadata": {},
   "outputs": [],
   "source": [
    "artist_names = [\n",
    "    'mark-rothko'\n",
    "]"
   ]
  },
  {
   "cell_type": "code",
   "execution_count": 25,
   "metadata": {},
   "outputs": [],
   "source": [
    "image_paths = []\n",
    "years = []\n",
    "names = []\n",
    "image_ids = []\n",
    "for path in os.listdir(wikiart_path):\n",
    "    if path in artist_names:\n",
    "        subdir = [os.path.join(dp, f) for dp, dn, fn in os.walk(os.path.expanduser(wikiart_path + path)) for f in fn]\n",
    "        images = [s for s in subdir if s.split('.')[-1] in ('jpg', 'gif', 'png')]\n",
    "        image_paths += images\n",
    "        years += [i.split('/')[-2] for i in images]\n",
    "        names += [i.split('/')[-3] for i in images]\n",
    "        image_ids += [int(i.split('/')[-1].split('.')[0]) for i in images]"
   ]
  },
  {
   "cell_type": "code",
   "execution_count": 26,
   "metadata": {},
   "outputs": [],
   "source": [
    "colorfulness = []\n",
    "for image_path in image_paths:\n",
    "    try:\n",
    "        colorfulness.append(image_measures.colorfulness(cv2.imread(image_path)))\n",
    "    except Exception as e:\n",
    "        print(e)\n",
    "        print(path)"
   ]
  },
  {
   "cell_type": "code",
   "execution_count": 27,
   "metadata": {},
   "outputs": [],
   "source": [
    "colorfulness = np.array(colorfulness)"
   ]
  },
  {
   "cell_type": "code",
   "execution_count": 31,
   "metadata": {},
   "outputs": [],
   "source": [
    "mask = [y != 'unknown-year' for y in years]\n",
    "years_no_nan = np.array([int(y) for y in np.array(years)[mask]])\n",
    "colorfulness_no_nan = colorfulness[mask]\n",
    "image_paths_no_nan = np.array(image_paths)[mask]"
   ]
  },
  {
   "cell_type": "code",
   "execution_count": 32,
   "metadata": {},
   "outputs": [
    {
     "ename": "NameError",
     "evalue": "name 'ylabel' is not defined",
     "output_type": "error",
     "traceback": [
      "\u001b[0;31m---------------------------------------------------------------------------\u001b[0m",
      "\u001b[0;31mNameError\u001b[0m                                 Traceback (most recent call last)",
      "\u001b[0;32m<ipython-input-32-4cbafa3632c0>\u001b[0m in \u001b[0;36m<module>\u001b[0;34m\u001b[0m\n\u001b[0;32m----> 1\u001b[0;31m \u001b[0mvisual_plot\u001b[0m\u001b[0;34m.\u001b[0m\u001b[0mvisual_plot\u001b[0m\u001b[0;34m(\u001b[0m\u001b[0myears_no_nan\u001b[0m\u001b[0;34m,\u001b[0m \u001b[0mcolorfulness_no_nan\u001b[0m\u001b[0;34m,\u001b[0m \u001b[0mimage_paths_no_nan\u001b[0m\u001b[0;34m)\u001b[0m\u001b[0;34m\u001b[0m\u001b[0;34m\u001b[0m\u001b[0m\n\u001b[0m",
      "\u001b[0;32m~/art-history-visualization/visual_plot.py\u001b[0m in \u001b[0;36mvisual_plot\u001b[0;34m(X, Y, image_paths)\u001b[0m\n\u001b[1;32m    189\u001b[0m     \u001b[0;31m# TODO\u001b[0m\u001b[0;34m\u001b[0m\u001b[0;34m\u001b[0m\u001b[0;34m\u001b[0m\u001b[0m\n\u001b[1;32m    190\u001b[0m \u001b[0;34m\u001b[0m\u001b[0m\n\u001b[0;32m--> 191\u001b[0;31m     \u001b[0mplt\u001b[0m\u001b[0;34m.\u001b[0m\u001b[0mylabel\u001b[0m\u001b[0;34m(\u001b[0m\u001b[0mylabel\u001b[0m\u001b[0;34m)\u001b[0m\u001b[0;34m\u001b[0m\u001b[0;34m\u001b[0m\u001b[0m\n\u001b[0m\u001b[1;32m    192\u001b[0m     plt.yticks(\n\u001b[1;32m    193\u001b[0m         [y_coord(y) for y in np.arange(\n",
      "\u001b[0;31mNameError\u001b[0m: name 'ylabel' is not defined"
     ]
    }
   ],
   "source": [
    "visual_plot.visual_plot(years_no_nan, colorfulness_no_nan, image_paths_no_nan)"
   ]
  },
  {
   "cell_type": "code",
   "execution_count": null,
   "metadata": {},
   "outputs": [],
   "source": []
  }
 ],
 "metadata": {
  "kernelspec": {
   "display_name": "Python 3",
   "language": "python",
   "name": "python3"
  },
  "language_info": {
   "codemirror_mode": {
    "name": "ipython",
    "version": 3
   },
   "file_extension": ".py",
   "mimetype": "text/x-python",
   "name": "python",
   "nbconvert_exporter": "python",
   "pygments_lexer": "ipython3",
   "version": "3.7.3"
  }
 },
 "nbformat": 4,
 "nbformat_minor": 4
}
